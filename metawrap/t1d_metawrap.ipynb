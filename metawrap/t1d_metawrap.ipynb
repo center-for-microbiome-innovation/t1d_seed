{
 "cells": [
  {
   "cell_type": "code",
   "execution_count": 1,
   "metadata": {},
   "outputs": [],
   "source": [
    "import pandas as pd\n",
    "from glob import glob\n",
    "from collections import defaultdict\n",
    "import os"
   ]
  },
  {
   "cell_type": "code",
   "execution_count": 3,
   "metadata": {},
   "outputs": [],
   "source": [
    "!mkdir assemblies"
   ]
  },
  {
   "cell_type": "code",
   "execution_count": 2,
   "metadata": {},
   "outputs": [
    {
     "data": {
      "text/plain": [
       "'/projects/cmi_proj/seed_grants/T1D_JaneKim/metawrap'"
      ]
     },
     "execution_count": 2,
     "metadata": {},
     "output_type": "execute_result"
    }
   ],
   "source": [
    "pwd"
   ]
  },
  {
   "cell_type": "code",
   "execution_count": 1,
   "metadata": {},
   "outputs": [
    {
     "name": "stdout",
     "output_type": "stream",
     "text": [
      "1321531[].barnacle.ucsd.edu\n"
     ]
    }
   ],
   "source": [
    "%%script bash\n",
    "echo '\n",
    "#!/bin/bash -l\n",
    "#PBS -S /bin/bash\n",
    "#PBS -e /projects/cmi_proj/seed_grants/T1D_JaneKim/logs\n",
    "#PBS -o /projects/cmi_proj/seed_grants/T1D_JaneKim/logs\n",
    "#PBS -l walltime=6:00:00\n",
    "#PBS -l nodes=1:ppn=8\n",
    "#PBS -l mem=64gb\n",
    "#PBS -N t1d_metawrap_assemble\n",
    "\n",
    "source ~/.bash_profile\n",
    "conda activate metawrap-env\n",
    "\n",
    "export TMPDIR=/panfs/panfs1.ucsd.edu/panscratch/$USER\n",
    "tmp=$(mktemp -d --tmpdir)\n",
    "export TMPDIR=$tmp\n",
    "trap \"rm -r $tmp; unset TMPDIR\" EXIT\n",
    "cd $tmp\n",
    "\n",
    "name=$( sed -n \"$PBS_ARRAYID\"p /home/swandro/T1D/shogun/shotgun_seq_locations.tsv | cut -f1 )\n",
    "r1=$( sed -n \"$PBS_ARRAYID\"p /home/swandro/T1D/shogun/shotgun_seq_locations.tsv | cut -f2 )\n",
    "r2=$( sed -n \"$PBS_ARRAYID\"p /home/swandro/T1D/shogun/shotgun_seq_locations.tsv | cut -f3 )\n",
    "    \n",
    "out_dir=/projects/cmi_proj/seed_grants/T1D_JaneKim/metawrap/assemblies/\n",
    "success_file=/projects/cmi_proj/seed_grants/T1D_JaneKim/metawrap/successful_assemblies.txt\n",
    "failure_file=/projects/cmi_proj/seed_grants/T1D_JaneKim/metawrap/failed_assemblies.txt\n",
    "\n",
    "gunzip -c $r1 > $tmp/r1.fastq\n",
    "gunzip -c $r2 > $tmp/r2.fastq\n",
    "\n",
    "metawrap assembly \\\n",
    "    --metaspades \\\n",
    "    -1 $tmp/r1.fastq \\\n",
    "    -2 $tmp/r2.fastq \\\n",
    "    -o $tmp/$name \\\n",
    "    -m 64 \\\n",
    "    -t 8 \\\n",
    "    -l 500\n",
    "#Cleanup\n",
    "#Check if completed successfully\n",
    "if [ -f $tmp/$name/final_assembly.fasta ]\n",
    "    then\n",
    "        echo $name >> $success_file\n",
    "        mv $tmp/$name $out_dir/\n",
    "    #Report if failed\n",
    "    else\n",
    "        echo $name >> $failure_file\n",
    "    fi\n",
    "\n",
    "\n",
    "    \n",
    "' | qsub -t 3-114%10"
   ]
  }
 ],
 "metadata": {
  "kernelspec": {
   "display_name": "Python 3",
   "language": "python",
   "name": "python3"
  },
  "language_info": {
   "codemirror_mode": {
    "name": "ipython",
    "version": 3
   },
   "file_extension": ".py",
   "mimetype": "text/x-python",
   "name": "python",
   "nbconvert_exporter": "python",
   "pygments_lexer": "ipython3",
   "version": "3.5.5"
  }
 },
 "nbformat": 4,
 "nbformat_minor": 2
}
