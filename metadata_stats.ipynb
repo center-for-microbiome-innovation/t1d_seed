{
 "cells": [
  {
   "cell_type": "markdown",
   "metadata": {},
   "source": [
    "# Calculate stats for clinical metadata."
   ]
  },
  {
   "cell_type": "code",
   "execution_count": 2,
   "metadata": {},
   "outputs": [],
   "source": [
    "import pandas as pd\n",
    "from scipy.stats import chisquare\n",
    "from scipy.stats import f_oneway\n"
   ]
  },
  {
   "cell_type": "code",
   "execution_count": 3,
   "metadata": {},
   "outputs": [],
   "source": [
    "#Import metadata\n",
    "md=pd.read_table(\"11129_20200129-223118.txt\")\n",
    "\n",
    "#Format metadata\n",
    "md = md.query('analysis_t1d != \"not applicable\" & host_age != \"restricted access\"')\\\n",
    ".groupby('anonymized_name')\\\n",
    ".agg(\"first\")"
   ]
  },
  {
   "cell_type": "markdown",
   "metadata": {},
   "source": [
    "# Sex"
   ]
  },
  {
   "cell_type": "code",
   "execution_count": 48,
   "metadata": {},
   "outputs": [
    {
     "data": {
      "text/plain": [
       "analysis_disease_stage_group\n",
       "NH      (21, 33)\n",
       "NT1D    (17, 33)\n",
       "OH      (13, 26)\n",
       "OT1D    (12, 24)\n",
       "Name: sex, dtype: object"
      ]
     },
     "execution_count": 48,
     "metadata": {},
     "output_type": "execute_result"
    }
   ],
   "source": [
    "sex_data = md.groupby('analysis_disease_stage_group').sex.apply(lambda x: (sum(x==\"male\"),len(x)))\n",
    "\n",
    "observed = [x[0] for x in sex_data.values]\n",
    "expected = [x[1]/2 for x in sex_data.values]\n",
    "\n",
    "sex_data"
   ]
  },
  {
   "cell_type": "code",
   "execution_count": 45,
   "metadata": {},
   "outputs": [
    {
     "data": {
      "text/plain": [
       "Power_divergenceResult(statistic=1.2424242424242424, pvalue=0.74284822918191584)"
      ]
     },
     "execution_count": 45,
     "metadata": {},
     "output_type": "execute_result"
    }
   ],
   "source": [
    "chisquare(observed, expected)"
   ]
  },
  {
   "cell_type": "markdown",
   "metadata": {},
   "source": [
    "# Age"
   ]
  },
  {
   "cell_type": "code",
   "execution_count": 14,
   "metadata": {},
   "outputs": [
    {
     "data": {
      "text/plain": [
       "F_onewayResult(statistic=0.42630734171017021, pvalue=0.73452417938352488)"
      ]
     },
     "execution_count": 14,
     "metadata": {},
     "output_type": "execute_result"
    }
   ],
   "source": [
    "ages = [md.query('analysis_disease_stage_group == @x').host_age.values for x in set(md.analysis_disease_stage_group)]\n",
    "f_oneway(*ages)\n"
   ]
  },
  {
   "cell_type": "markdown",
   "metadata": {},
   "source": [
    "# Height"
   ]
  },
  {
   "cell_type": "code",
   "execution_count": 16,
   "metadata": {},
   "outputs": [
    {
     "data": {
      "text/plain": [
       "F_onewayResult(statistic=0.63544512553345744, pvalue=0.59369800838505615)"
      ]
     },
     "execution_count": 16,
     "metadata": {},
     "output_type": "execute_result"
    }
   ],
   "source": [
    "heights = [md.query('analysis_disease_stage_group == @x').host_height.values for x in set(md.analysis_disease_stage_group)]\n",
    "f_oneway(*heights)\n"
   ]
  },
  {
   "cell_type": "markdown",
   "metadata": {},
   "source": [
    "# Race"
   ]
  },
  {
   "cell_type": "code",
   "execution_count": 78,
   "metadata": {},
   "outputs": [
    {
     "data": {
      "text/plain": [
       "analysis_disease_stage_group  race \n",
       "NH                            White    25\n",
       "                              Other     8\n",
       "NT1D                          White    26\n",
       "                              Other     5\n",
       "                              Asian     2\n",
       "OH                            Other    13\n",
       "                              White    11\n",
       "                              Asian     1\n",
       "                              Black     1\n",
       "OT1D                          White    13\n",
       "                              Other     8\n",
       "                              Black     3\n",
       "Name: race, dtype: int64"
      ]
     },
     "execution_count": 78,
     "metadata": {},
     "output_type": "execute_result"
    }
   ],
   "source": [
    "md.groupby('analysis_disease_stage_group').race.value_counts()"
   ]
  },
  {
   "cell_type": "code",
   "execution_count": 75,
   "metadata": {},
   "outputs": [],
   "source": [
    "def chi_sq_race(md, race_to_test):\n",
    "    #Get data on race to test\n",
    "    race_data = md.groupby('analysis_disease_stage_group').race.apply(lambda x: (sum(x==race_to_test),len(x)))\n",
    "    #Get observed counts of that race\n",
    "    observed = [x[0] for x in race_data.values]\n",
    "    #Get total individuals per group\n",
    "    n_per_group = [x[1] for x in race_data.values]\n",
    "    total = sum(n_per_group)\n",
    "    #Get proportions that would be expected\n",
    "    proportions = [x/total for x in n_per_group]\n",
    "    total_white = sum(observed)\n",
    "    #Get expected values\n",
    "    expected=[total_white*x for x in proportions]\n",
    "    #Calculate chi square\n",
    "    result = chisquare(observed, expected)\n",
    "    return(result)"
   ]
  },
  {
   "cell_type": "code",
   "execution_count": 82,
   "metadata": {},
   "outputs": [
    {
     "data": {
      "text/plain": [
       "Power_divergenceResult(statistic=4.065221445221443, pvalue=0.2545069720850246)"
      ]
     },
     "execution_count": 82,
     "metadata": {},
     "output_type": "execute_result"
    }
   ],
   "source": [
    "#Calculate chi square for white individuals. Counts too low to calculate for other ethnicities.\n",
    "chi_sq_race(md, \"White\")"
   ]
  }
 ],
 "metadata": {
  "kernelspec": {
   "display_name": "Python 3",
   "language": "python",
   "name": "python3"
  },
  "language_info": {
   "codemirror_mode": {
    "name": "ipython",
    "version": 3
   },
   "file_extension": ".py",
   "mimetype": "text/x-python",
   "name": "python",
   "nbconvert_exporter": "python",
   "pygments_lexer": "ipython3",
   "version": "3.5.5"
  }
 },
 "nbformat": 4,
 "nbformat_minor": 2
}
